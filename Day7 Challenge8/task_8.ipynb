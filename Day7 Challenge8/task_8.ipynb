{
 "cells": [
  {
   "cell_type": "markdown",
   "metadata": {},
   "source": [
    "여러분이 자주 사용하는 수학적 연산<br>\n",
    "(예: 삼각형 넓이, 원의 넓이, 직육면체의 넓이)을 수행하는 함수들을 포함하는 mymath.py라는 이름의 모듈을 만드세요. \n",
    "\n",
    "이 모듈을 사용하여 작성된 함수들을 실제로 임포트하고 사용하는 간단한 프로그램을 작성하세요."
   ]
  },
  {
   "cell_type": "code",
   "execution_count": 1,
   "metadata": {},
   "outputs": [
    {
     "name": "stdout",
     "output_type": "stream",
     "text": [
      "정삼각형 넓이 = 3.897114317029974\n",
      "원의 넓이 = 28.274333882308138\n",
      "정사각형 넓이 = 9.0\n"
     ]
    }
   ],
   "source": [
    "import mymath as mm\n",
    "\n",
    "a = float(input(\"숫자 입력\"))\n",
    "\n",
    "print(f'정삼각형 넓이 = {mm.tri(a)}')\n",
    "print(f'원의 넓이 = {mm.circle(a)}')\n",
    "print(f'정사각형 넓이 = {mm.sqr(a)}')"
   ]
  }
 ],
 "metadata": {
  "kernelspec": {
   "display_name": "Python 3",
   "language": "python",
   "name": "python3"
  },
  "language_info": {
   "codemirror_mode": {
    "name": "ipython",
    "version": 3
   },
   "file_extension": ".py",
   "mimetype": "text/x-python",
   "name": "python",
   "nbconvert_exporter": "python",
   "pygments_lexer": "ipython3",
   "version": "3.9.6"
  }
 },
 "nbformat": 4,
 "nbformat_minor": 2
}
