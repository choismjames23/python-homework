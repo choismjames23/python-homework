{
 "cells": [
  {
   "cell_type": "markdown",
   "metadata": {},
   "source": [
    "사용자의 이름, 나이, 성별을 출력하는 함수 print_info를 작성하세요. 이 때, 모든 매개변수는 키워드 매개변수로만 받도록 하세요."
   ]
  },
  {
   "cell_type": "code",
   "execution_count": null,
   "metadata": {},
   "outputs": [
    {
     "name": "stdout",
     "output_type": "stream",
     "text": [
      "이름 : 최승민\n",
      "나이 : 26\n",
      "성별 : 남자\n"
     ]
    }
   ],
   "source": [
    "def print_info(**infos): \n",
    "    for key, value in infos.items():\n",
    "        print(f'{key} : {value}')\n",
    "\n",
    "print_info(이름 = \"최승민\", 나이 = 26, 성별 = \"남자\")\n",
    "\n",
    "'''\n",
    "* 한 개는 여러개의 위치 인수를 받을 때 사용. 튜플 형태로 인수를 받음\n",
    "** 두 개는 여러개의 키워드 인수를 받을 때 사용. {키:값} 처럼 딕셔너리 형태로 인수를 받음\n",
    ".items()는 딕셔너리의 키(key)와 값(value)을 튜플 형태로 반환하는 메소드이다.\n",
    "위의 코드에서는 {\"이름\":\"최승민, \"나이\":26, \"성별\":\"남자\"} 이 딕셔너리를\n",
    "dict.items()를 사용하면 [('이름','최승민'),('나이',26),('성별','남자')]\n",
    "와 같은 형태의 튜플로 변환해준다.\n",
    "'''"
   ]
  }
 ],
 "metadata": {
  "kernelspec": {
   "display_name": "Python 3",
   "language": "python",
   "name": "python3"
  },
  "language_info": {
   "codemirror_mode": {
    "name": "ipython",
    "version": 3
   },
   "file_extension": ".py",
   "mimetype": "text/x-python",
   "name": "python",
   "nbconvert_exporter": "python",
   "pygments_lexer": "ipython3",
   "version": "3.9.6"
  }
 },
 "nbformat": 4,
 "nbformat_minor": 2
}
