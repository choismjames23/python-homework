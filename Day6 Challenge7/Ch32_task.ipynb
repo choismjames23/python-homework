{
 "cells": [
  {
   "cell_type": "markdown",
   "metadata": {},
   "source": [
    "두 문자열을 받아서 긴 문자열을 반환하는 함수 longer_string을 작성하세요. 만약 두 문자열의 길이가 같다면, 첫 번째 문자열을 반환하세요."
   ]
  },
  {
   "cell_type": "code",
   "execution_count": 2,
   "metadata": {},
   "outputs": [
    {
     "name": "stdout",
     "output_type": "stream",
     "text": [
      "obaoefaosnfaihfabesfabe;fuiai\n",
      "ladfjaidfnoaf\n"
     ]
    }
   ],
   "source": [
    "def longer_string(str_a, str_b):\n",
    "    if len(str_a)>=len(str_b) :\n",
    "        return str_a\n",
    "    else:\n",
    "        return str_b\n",
    "\n",
    "print(longer_string(\"ladfjaidfnoaf\", \"obaoefaosnfaihfabesfabe;fuiai\"))\n",
    "print(longer_string(\"ladfjaidfnoaf\", \"obae\"))\n"
   ]
  }
 ],
 "metadata": {
  "kernelspec": {
   "display_name": "Python 3",
   "language": "python",
   "name": "python3"
  },
  "language_info": {
   "codemirror_mode": {
    "name": "ipython",
    "version": 3
   },
   "file_extension": ".py",
   "mimetype": "text/x-python",
   "name": "python",
   "nbconvert_exporter": "python",
   "pygments_lexer": "ipython3",
   "version": "3.9.6"
  }
 },
 "nbformat": 4,
 "nbformat_minor": 2
}
